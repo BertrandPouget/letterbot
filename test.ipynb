{
 "cells": [
  {
   "cell_type": "code",
   "execution_count": 58,
   "id": "6032b17f",
   "metadata": {},
   "outputs": [],
   "source": [
    "import pandas as pd, numpy as np, joblib\n",
    "from sentence_transformers import SentenceTransformer\n",
    "from sklearn.preprocessing import MultiLabelBinarizer\n",
    "from sklearn.feature_extraction import FeatureHasher\n",
    "from scipy import sparse\n",
    "from lightgbm import Booster\n",
    "from catboost import CatBoostRegressor\n",
    "from scrape_metadata import scrape_metadata"
   ]
  },
  {
   "cell_type": "code",
   "execution_count": 59,
   "id": "445b784b",
   "metadata": {},
   "outputs": [],
   "source": [
    "df_train = pd.read_csv('data/ratings_enriched.csv')\n",
    "\n",
    "sbert = SentenceTransformer('all-MiniLM-L6-v2')\n",
    "\n",
    "mlb = MultiLabelBinarizer()\n",
    "mlb.fit(\n",
    "    df_train[['Genre1','Genre2']]\n",
    "      .fillna('')\n",
    "      .apply(lambda r: [g for g in r if g], axis=1)\n",
    "      .tolist()\n",
    ")\n",
    "\n",
    "year_mean, year_std = df_train['Year'].mean(), df_train['Year'].std()\n",
    "\n",
    "dir_hasher = FeatureHasher(n_features=256, input_type='dict', alternate_sign=False)\n",
    "cty_hasher = FeatureHasher(n_features=128, input_type='dict', alternate_sign=False)"
   ]
  },
  {
   "cell_type": "code",
   "execution_count": 60,
   "id": "4a03eeaf",
   "metadata": {},
   "outputs": [],
   "source": [
    "USE_RATING_STATS = True\n",
    "\n",
    "if USE_RATING_STATS == False:\n",
    "  cat_model = CatBoostRegressor(); cat_model.load_model('models/catboost.cbm')\n",
    "  lgbm_model = Booster(model_file='models/lightgbm.txt')\n",
    "else:\n",
    "  cat_model = CatBoostRegressor(); cat_model.load_model('models/catboost_ratings.cbm')\n",
    "  lgbm_model = Booster(model_file='models/lightgbm_ratings.txt')"
   ]
  },
  {
   "cell_type": "code",
   "execution_count": 61,
   "id": "9925eec7",
   "metadata": {},
   "outputs": [],
   "source": [
    "def prepare_single_point(row: pd.Series):\n",
    "    emb = sparse.csr_matrix(\n",
    "        sbert.encode([row['Plot']], convert_to_numpy=True)\n",
    "    )\n",
    "    genres = [[g for g in [row['Genre1'], row['Genre2']] if pd.notna(g) and g!='']]\n",
    "    g_hot  = sparse.csr_matrix(mlb.transform(genres))\n",
    "    year_std_val = np.array([(row['Year']-year_mean)/year_std]).reshape(-1,1)\n",
    "    num_parts = [year_std_val]\n",
    "    if USE_RATING_STATS:\n",
    "        rating_avg_val = np.array([row['RatingAvg'] if pd.notna(row['RatingAvg']) else 0],\n",
    "                                  dtype=float).reshape(-1,1)\n",
    "        rating_cnt_val = np.array([np.log1p(row['RatingCount'] or 0)],\n",
    "                                  dtype=float).reshape(-1,1)\n",
    "        num_parts += [rating_avg_val, rating_cnt_val]\n",
    "    X_num = sparse.csr_matrix(np.hstack(num_parts))\n",
    "\n",
    "    # ------- lightgbm: hash Director & Country\n",
    "    dir_dict = [{'d=' + str(row['Director1']): 1}]\n",
    "    cty_dict = [{'c=' + str(row['Country1']): 1}]\n",
    "    X_hash = sparse.hstack([\n",
    "        dir_hasher.transform(dir_dict),\n",
    "        cty_hasher.transform(cty_dict)\n",
    "    ])\n",
    "\n",
    "    X_lgb = sparse.hstack([emb, g_hot, X_num, X_hash]).tocsr()\n",
    "\n",
    "    # ------- catboost: dataframe con colonne originali\n",
    "    feat_names = [f'emb_{i}' for i in range(emb.shape[1])] + \\\n",
    "                 list(mlb.classes_) + ['year']\n",
    "    if USE_RATING_STATS:\n",
    "        feat_names += ['rating_avg','rating_count']\n",
    "    X_cat = pd.DataFrame(\n",
    "        sparse.hstack([emb, g_hot, X_num]).toarray(),\n",
    "        columns=feat_names\n",
    "    )\n",
    "    X_cat['Director1'] = str(row['Director1'])\n",
    "    X_cat['Country1']  = str(row['Country1'])\n",
    "    return X_lgb, X_cat\n",
    "\n",
    "def predict_from_url(url: str, model = 'cat'):\n",
    "    meta = scrape_metadata(url)\n",
    "    meta['Year'] = pd.to_numeric(meta.get('Year', np.nan), errors='coerce')\n",
    "    meta['RatingAvg']   = pd.to_numeric(meta['RatingAvg'], errors='coerce')\n",
    "    meta['RatingCount'] = pd.to_numeric(meta['RatingCount'], errors='coerce')\n",
    "\n",
    "    X_lgb, X_cat = prepare_single_point(meta)\n",
    "    pred_lgb = float(lgbm_model.predict(X_lgb)[0])\n",
    "    pred_cat = float(cat_model.predict(X_cat)[0])\n",
    "    if model == 'cat':\n",
    "        return pred_cat\n",
    "    else:\n",
    "        return pred_lgb"
   ]
  },
  {
   "cell_type": "markdown",
   "id": "f3be5bc4",
   "metadata": {},
   "source": [
    "## Search"
   ]
  },
  {
   "cell_type": "code",
   "execution_count": 66,
   "id": "6369bed4",
   "metadata": {},
   "outputs": [],
   "source": [
    "from tavily import TavilyClient\n",
    "\n",
    "query = 'sexy vampires'\n",
    "client = TavilyClient(\"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\")\n",
    "response = client.search(\n",
    "    query=query,\n",
    "    include_domains=[\"letterboxd.com/film\"],\n",
    "    search_depth='advanced',\n",
    "    max_results=10,\n",
    ")\n",
    "uris = []\n",
    "for res in response['results']:\n",
    "    uris.append(res['url'])"
   ]
  },
  {
   "cell_type": "code",
   "execution_count": 67,
   "id": "489379ea",
   "metadata": {},
   "outputs": [
    {
     "name": "stderr",
     "output_type": "stream",
     "text": [
      "100%|██████████| 7/7 [00:03<00:00,  1.95it/s]\n"
     ]
    }
   ],
   "source": [
    "df_uris = pd.DataFrame(uris, columns=['url'])\n",
    "new_cols = df_uris['url'].progress_apply(scrape_metadata)\n",
    "df_uris = pd.concat([df_uris, new_cols], axis=1)\n",
    "\n",
    "df_uris = df_uris[df_uris['Duration'] > 60]\n",
    "df_uris = df_uris[df_uris['RatingCount'] > 100]"
   ]
  },
  {
   "cell_type": "code",
   "execution_count": 68,
   "id": "e8739f1c",
   "metadata": {},
   "outputs": [
    {
     "name": "stderr",
     "output_type": "stream",
     "text": [
      "100%|██████████| 1/1 [00:00<00:00,  1.74it/s]"
     ]
    },
    {
     "name": "stdout",
     "output_type": "stream",
     "text": [
      "  https://letterboxd.com/film/the-horrible-sexy-vampire/ - Predicted Rating: 2.79, Avg Rating: 2.77\n",
      "  Some kind of sadist, but not human, is murdering people. A doctor is convinced that the killings are the evil workings of a reclusive odd baron who died many years ago.\n",
      "\n"
     ]
    },
    {
     "name": "stderr",
     "output_type": "stream",
     "text": [
      "\n"
     ]
    }
   ],
   "source": [
    "df_uris['Prediction'] = df_uris['url'].progress_apply(predict_from_url)\n",
    "df_uris.sort_values('Prediction', ascending=False, inplace=True)\n",
    "\n",
    "for i, row in df_uris.iterrows():\n",
    "    print(f\"  {row['url']} - Predicted Rating: {row['Prediction']:.2f}, Avg Rating: {row['RatingAvg']:.2f}\")\n",
    "    print(f\"  {row['Plot']}\")\n",
    "    print()"
   ]
  }
 ],
 "metadata": {
  "kernelspec": {
   "display_name": ".venv",
   "language": "python",
   "name": "python3"
  },
  "language_info": {
   "codemirror_mode": {
    "name": "ipython",
    "version": 3
   },
   "file_extension": ".py",
   "mimetype": "text/x-python",
   "name": "python",
   "nbconvert_exporter": "python",
   "pygments_lexer": "ipython3",
   "version": "3.11.3"
  }
 },
 "nbformat": 4,
 "nbformat_minor": 5
}
