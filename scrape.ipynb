{
 "cells": [
  {
   "cell_type": "code",
   "execution_count": null,
   "id": "b2f2549b",
   "metadata": {},
   "outputs": [],
   "source": [
    "import pandas as pd\n",
    "import numpy as np\n",
    "from tqdm import tqdm\n",
    "tqdm.pandas()\n",
    "import json\n",
    "import re\n",
    "import requests\n",
    "from bs4 import BeautifulSoup\n",
    "import time\n",
    "import random\n",
    "from sklearn.model_selection import train_test_split"
   ]
  },
  {
   "cell_type": "code",
   "execution_count": null,
   "id": "a83ee6e7",
   "metadata": {},
   "outputs": [],
   "source": [
    "def scrape(url):\n",
    "    # 1) GET con User-Agent e pausa\n",
    "    headers = {\n",
    "        \"User-Agent\": (\n",
    "            \"Mozilla/5.0 (Windows NT 10.0; Win64; x64) \"\n",
    "            \"AppleWebKit/537.36 (KHTML, like Gecko) \"\n",
    "            \"Chrome/115.0.0.0 Safari/537.36\"\n",
    "        )\n",
    "    }\n",
    "    r = requests.get(url, headers=headers)\n",
    "    r.raise_for_status()             # lancia HTTPError su 429 o altri 4xx/5xx\n",
    "    time.sleep(random.uniform(1, 3)) # pausa 1–3s\n",
    "\n",
    "    soup = BeautifulSoup(r.text, \"html.parser\")\n",
    "\n",
    "    # 2) Plot\n",
    "    try:\n",
    "        plot = soup.find(\"meta\", {\"name\": \"description\"})[\"content\"].strip()\n",
    "    except Exception:\n",
    "        plot = np.nan\n",
    "\n",
    "    # 3) Durata\n",
    "    duration = np.nan\n",
    "    try:\n",
    "        f = soup.find(\"p\", class_=\"text-link text-footer\")\n",
    "        if f:\n",
    "            m = re.search(r\"(\\d+)\\s*min\", f.get_text())\n",
    "            if m:\n",
    "                duration = int(m.group(1))\n",
    "    except Exception:\n",
    "        pass\n",
    "\n",
    "    # 4) JSON-LD\n",
    "    directors   = [np.nan, np.nan]\n",
    "    genres      = [np.nan, np.nan, np.nan]\n",
    "    countries   = [np.nan, np.nan, np.nan]\n",
    "    year        = np.nan\n",
    "    rating_avg  = np.nan\n",
    "    rating_count= np.nan\n",
    "\n",
    "    tag = soup.find(\"script\", type=\"application/ld+json\")\n",
    "    if tag:\n",
    "        try:\n",
    "            txt = tag.string or tag.get_text()\n",
    "            # prendi dal primo { all’ultimo } per includere tutto\n",
    "            start = txt.find(\"{\")\n",
    "            end   = txt.rfind(\"}\")\n",
    "            js = json.loads(txt[start:end+1])\n",
    "\n",
    "            # registi\n",
    "            d = js.get(\"director\", [])\n",
    "            if not isinstance(d, list): d = [d]\n",
    "            names = [x.get(\"name\", np.nan) for x in d if isinstance(x, dict)]\n",
    "            directors = (names + [np.nan]*2)[:2]\n",
    "\n",
    "            # generi\n",
    "            g = js.get(\"genre\", [])\n",
    "            if not isinstance(g, list): g = [g]\n",
    "            genres = (g + [np.nan]*3)[:3]\n",
    "\n",
    "            # paesi\n",
    "            c = js.get(\"countryOfOrigin\", [])\n",
    "            if not isinstance(c, list): c = [c]\n",
    "            cn = []\n",
    "            for x in c:\n",
    "                if isinstance(x, dict):\n",
    "                    cn.append(x.get(\"name\", np.nan))\n",
    "                else:\n",
    "                    cn.append(x)\n",
    "            countries = (cn + [np.nan]*3)[:3]\n",
    "\n",
    "            # anno\n",
    "            reld = js.get(\"releasedEvent\", [])\n",
    "            if isinstance(reld, list) and reld and isinstance(reld[0], dict):\n",
    "                year = reld[0].get(\"startDate\", np.nan)\n",
    "\n",
    "            # rating\n",
    "            agg = js.get(\"aggregateRating\", {})\n",
    "            rating_avg   = agg.get(\"ratingValue\", np.nan)\n",
    "            rating_count = agg.get(\"ratingCount\", np.nan)\n",
    "\n",
    "        except Exception:\n",
    "            # se JSON non valido, rimangono i nan\n",
    "            pass\n",
    "\n",
    "    # 5) Ritorno\n",
    "    return pd.Series({\n",
    "        \"Plot\": plot,\n",
    "        \"Duration\": duration,\n",
    "        \"Director1\": directors[0],\n",
    "        \"Director2\": directors[1],\n",
    "        \"Genre1\": genres[0],\n",
    "        \"Genre2\": genres[1],\n",
    "        \"Genre3\": genres[2],\n",
    "        \"Country1\": countries[0],\n",
    "        \"Country2\": countries[1],\n",
    "        \"Country3\": countries[2],\n",
    "        \"Year\": year,\n",
    "        \"RatingAvg\": rating_avg,\n",
    "        \"RatingCount\": rating_count\n",
    "    })\n"
   ]
  },
  {
   "cell_type": "code",
   "execution_count": null,
   "id": "8e5fa7d4",
   "metadata": {},
   "outputs": [],
   "source": [
    "ratings = pd.read_csv('letterboxd_data/ratings.csv')\n",
    "ratings.rename(columns={\"Name\": \"Title\", \"Letterboxd URI\": \"URI\", \"Rating\": \"MyRating\"}, inplace=True)\n",
    "ratings = ratings[[\"URI\", \"Title\", \"MyRating\"]]"
   ]
  },
  {
   "cell_type": "code",
   "execution_count": 4,
   "id": "30ed3d2a",
   "metadata": {},
   "outputs": [
    {
     "name": "stderr",
     "output_type": "stream",
     "text": [
      "  0%|          | 0/1715 [00:00<?, ?it/s]"
     ]
    },
    {
     "name": "stderr",
     "output_type": "stream",
     "text": [
      "100%|██████████| 1715/1715 [1:22:18<00:00,  2.88s/it]\n"
     ]
    }
   ],
   "source": [
    "new_cols = ratings['URI'].progress_apply(scrape)\n",
    "df = pd.concat([ratings, new_cols], axis=1)"
   ]
  },
  {
   "cell_type": "code",
   "execution_count": null,
   "id": "372047fd",
   "metadata": {},
   "outputs": [],
   "source": [
    "df = df[(df['Duration'] >= 60) & (df['Duration'] <= 240)]\n",
    "df = df[(df['Genre1'] != 'TV Movie') & (df['Genre2'] != 'TV Movie') & (df['Genre3'] != 'TV Movie')]\n",
    "df.reset_index(drop=True, inplace=True)\n",
    "\n",
    "df.to_csv('ml_data/full.csv', index=False)"
   ]
  },
  {
   "cell_type": "code",
   "execution_count": 36,
   "id": "3e07155c",
   "metadata": {},
   "outputs": [],
   "source": [
    "df = df[['URI', 'Title', 'Year', 'Plot', 'Director1', 'Genre1', 'Genre2', 'Genre3', 'Country1', 'RatingAvg', 'RatingCount', 'MyRating']]\n",
    "df.rename(columns={'Director1': 'Director', 'Country1': 'Country'}, inplace=True)"
   ]
  },
  {
   "cell_type": "code",
   "execution_count": null,
   "id": "1ab0b06f",
   "metadata": {},
   "outputs": [],
   "source": [
    "train, test = train_test_split(df, test_size=200/len(df), random_state=99)\n",
    "\n",
    "train.to_csv('ml_data/train.csv', index=False)\n",
    "test.to_csv('ml_data/test.csv', index=False)"
   ]
  }
 ],
 "metadata": {
  "kernelspec": {
   "display_name": ".venv",
   "language": "python",
   "name": "python3"
  },
  "language_info": {
   "codemirror_mode": {
    "name": "ipython",
    "version": 3
   },
   "file_extension": ".py",
   "mimetype": "text/x-python",
   "name": "python",
   "nbconvert_exporter": "python",
   "pygments_lexer": "ipython3",
   "version": "3.11.3"
  }
 },
 "nbformat": 4,
 "nbformat_minor": 5
}
