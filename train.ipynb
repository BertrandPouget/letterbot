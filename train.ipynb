{
 "cells": [
  {
   "cell_type": "code",
   "execution_count": 8,
   "id": "809d855e",
   "metadata": {},
   "outputs": [],
   "source": [
    "import pandas as pd, numpy as np\n",
    "from sentence_transformers import SentenceTransformer\n",
    "from sklearn.preprocessing import MultiLabelBinarizer\n",
    "from sklearn.feature_extraction import FeatureHasher\n",
    "from sklearn.model_selection import train_test_split\n",
    "from sklearn.metrics import mean_absolute_error, root_mean_squared_error\n",
    "from scipy import sparse"
   ]
  },
  {
   "cell_type": "code",
   "execution_count": 3,
   "id": "e92f1c45",
   "metadata": {},
   "outputs": [],
   "source": [
    "use_rating_stats = False      # ⇦ cambia a False per togliere RatingAvg / RatingCount\n",
    "random_state     = 0"
   ]
  },
  {
   "cell_type": "code",
   "execution_count": 4,
   "id": "95f7d9ee",
   "metadata": {},
   "outputs": [
    {
     "name": "stderr",
     "output_type": "stream",
     "text": [
      "Batches: 100%|██████████| 54/54 [00:11<00:00,  4.71it/s]\n"
     ]
    }
   ],
   "source": [
    "df_raw = pd.read_csv('data/ratings_enriched.csv')\n",
    "y      = df_raw['Rating'].astype(float).values\n",
    "\n",
    "# SBERT embedding\n",
    "sbert  = SentenceTransformer('all-MiniLM-L6-v2')\n",
    "X_text = sparse.csr_matrix(\n",
    "    sbert.encode(df_raw['Plot'].fillna('').tolist(),\n",
    "                 batch_size=32, show_progress_bar=True, convert_to_numpy=True)\n",
    ")\n",
    "\n",
    "# generi multi‑hot\n",
    "genre_lists = (df_raw[['Genre1','Genre2']].fillna('')\n",
    "               .apply(lambda r: [g for g in r if g], axis=1)\n",
    "               .tolist())\n",
    "mlb       = MultiLabelBinarizer()\n",
    "X_genres  = sparse.csr_matrix(mlb.fit_transform(genre_lists))\n",
    "\n",
    "# feature numeriche\n",
    "year_std  = ((df_raw['Year'].fillna(df_raw['Year'].mean()) - df_raw['Year'].mean())\n",
    "             / df_raw['Year'].std()).values.reshape(-1,1)\n",
    "num_parts = [year_std]\n",
    "if use_rating_stats:\n",
    "    rating_avg   = df_raw['RatingAvg'].fillna(df_raw['RatingAvg'].mean()).values.reshape(-1,1)\n",
    "    rating_count = np.log1p(df_raw['RatingCount'].fillna(0)).values.reshape(-1,1)\n",
    "    num_parts += [rating_avg, rating_count]\n",
    "X_num = sparse.csr_matrix(np.hstack(num_parts))"
   ]
  },
  {
   "cell_type": "markdown",
   "id": "8d4ba1e0",
   "metadata": {},
   "source": [
    "## LightGBM"
   ]
  },
  {
   "cell_type": "code",
   "execution_count": 15,
   "id": "635ce6c1",
   "metadata": {},
   "outputs": [],
   "source": [
    "# dizionari riga→feature\n",
    "dir_dict = [{'dir='+d:1} for d in df_raw['Director1'].fillna('NA')]\n",
    "cty_dict = [{'cty='+c:1} for c in df_raw['Country1'].fillna('NA')]\n",
    "\n",
    "X_dir = FeatureHasher(n_features=256, input_type='dict', alternate_sign=False).transform(dir_dict)\n",
    "X_cty = FeatureHasher(n_features=128, input_type='dict', alternate_sign=False).transform(cty_dict)\n",
    "X_hash = sparse.hstack([X_dir, X_cty]).tocsr()"
   ]
  },
  {
   "cell_type": "code",
   "execution_count": null,
   "id": "4abdc2ca",
   "metadata": {},
   "outputs": [
    {
     "name": "stdout",
     "output_type": "stream",
     "text": [
      "LightGBM  MAE 0.36 RMSE 0.477\n"
     ]
    },
    {
     "name": "stderr",
     "output_type": "stream",
     "text": [
      "c:\\Users\\markh\\Desktop\\Codici\\letterbot\\.venv\\Lib\\site-packages\\sklearn\\utils\\validation.py:2739: UserWarning: X does not have valid feature names, but LGBMRegressor was fitted with feature names\n",
      "  warnings.warn(\n"
     ]
    }
   ],
   "source": [
    "from sklearn.model_selection import train_test_split\n",
    "from lightgbm import LGBMRegressor\n",
    "from sklearn.metrics import mean_absolute_error, root_mean_squared_error\n",
    "\n",
    "X_all_lgb = sparse.hstack([X_text, X_genres, X_num, X_hash]).tocsr()\n",
    "X_tr, X_te, y_tr, y_te = train_test_split(X_all_lgb, y,\n",
    "                                          test_size=200/len(df_raw),\n",
    "                                          random_state=random_state)\n",
    "\n",
    "lgbm = LGBMRegressor(\n",
    "    n_estimators=1200, learning_rate=0.04, num_leaves=128,\n",
    "    min_child_samples=20, subsample=0.85, colsample_bytree=0.8,\n",
    "    reg_lambda=1.0, random_state=random_state, verbose=-1\n",
    ")\n",
    "lgbm.fit(X_tr, y_tr)\n",
    "\n",
    "pred = lgbm.predict(X_te)\n",
    "print('LightGBM  MAE', round(mean_absolute_error(y_te, pred),3),\n",
    "      'RMSE', round(root_mean_squared_error(y_te, pred),3))\n"
   ]
  },
  {
   "cell_type": "markdown",
   "id": "c6b226ea",
   "metadata": {},
   "source": [
    "## CatBoost"
   ]
  },
  {
   "cell_type": "code",
   "execution_count": 9,
   "id": "15636253",
   "metadata": {},
   "outputs": [
    {
     "name": "stdout",
     "output_type": "stream",
     "text": [
      "CatBoost  MAE 0.495 RMSE 0.655\n"
     ]
    }
   ],
   "source": [
    "from catboost import CatBoostRegressor, Pool\n",
    "\n",
    "# concateniamo TUTTO (embedding + genres + numeriche) in un DataFrame\n",
    "feat_names = [f'emb_{i}' for i in range(X_text.shape[1])] + \\\n",
    "             list(mlb.classes_) + ['year'] + \\\n",
    "             (['rating_avg','rating_count'] if use_rating_stats else [])\n",
    "X_dense = pd.DataFrame(\n",
    "    sparse.hstack([X_text, X_genres, X_num]).toarray(),\n",
    "    columns=feat_names\n",
    ")\n",
    "\n",
    "# aggiungiamo le colonne categoriche grezze\n",
    "X_dense['Director1'] = df_raw['Director1'].fillna('NA')\n",
    "X_dense['Country1']  = df_raw['Country1'].fillna('NA')\n",
    "\n",
    "cat_feats = ['Director1','Country1']\n",
    "\n",
    "X_tr, X_te, y_tr, y_te = train_test_split(\n",
    "    X_dense, y, test_size=200/len(df_raw), random_state=random_state\n",
    ")\n",
    "\n",
    "train_pool = Pool(X_tr, y_tr, cat_features=cat_feats)\n",
    "test_pool  = Pool(X_te, y_te, cat_features=cat_feats)\n",
    "\n",
    "cat = CatBoostRegressor(\n",
    "    iterations=1000, learning_rate=0.01, depth=6,\n",
    "    l2_leaf_reg=3, random_seed=random_state, verbose=False\n",
    ")\n",
    "cat.fit(train_pool)\n",
    "\n",
    "pred = cat.predict(test_pool)\n",
    "print('CatBoost  MAE', round(mean_absolute_error(y_te, pred),3),\n",
    "      'RMSE', round(root_mean_squared_error(y_te, pred),3))"
   ]
  },
  {
   "cell_type": "code",
   "execution_count": 19,
   "id": "13c0bf72",
   "metadata": {},
   "outputs": [],
   "source": [
    "df_test = df_raw.loc[X_te.index, :]\n",
    "df_test['Pred'] = pred"
   ]
  },
  {
   "cell_type": "code",
   "execution_count": 20,
   "id": "e4c255f2",
   "metadata": {},
   "outputs": [
    {
     "data": {
      "text/plain": [
       "<Axes: ylabel='Frequency'>"
      ]
     },
     "execution_count": 20,
     "metadata": {},
     "output_type": "execute_result"
    },
    {
     "data": {
      "image/png": "[encoded data removed]",
      "text/plain": [
       "<Figure size 640x480 with 1 Axes>"
      ]
     },
     "metadata": {},
     "output_type": "display_data"
    }
   ],
   "source": [
    "df_test['Pred'].plot.hist(bins=20, edgecolor='black', alpha=0.7)"
   ]
  },
  {
   "cell_type": "code",
   "execution_count": null,
   "id": "84fd4651",
   "metadata": {},
   "outputs": [
    {
     "data": {
      "text/plain": [
       "<lightgbm.basic.Booster at 0x19841748450>"
      ]
     },
     "execution_count": 18,
     "metadata": {},
     "output_type": "execute_result"
    }
   ],
   "source": [
    "cat.save_model('models/catboost_ratings.cbm')\n",
    "lgbm.booster_.save_model('models/lightgbm_ratings.txt')"
   ]
  }
 ],
 "metadata": {
  "kernelspec": {
   "display_name": ".venv",
   "language": "python",
   "name": "python3"
  },
  "language_info": {
   "codemirror_mode": {
    "name": "ipython",
    "version": 3
   },
   "file_extension": ".py",
   "mimetype": "text/x-python",
   "name": "python",
   "nbconvert_exporter": "python",
   "pygments_lexer": "ipython3",
   "version": "3.11.3"
  }
 },
 "nbformat": 4,
 "nbformat_minor": 5
}
