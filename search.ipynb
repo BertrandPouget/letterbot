{
 "cells": [
  {
   "cell_type": "code",
   "execution_count": 38,
   "id": "2db82e8f",
   "metadata": {},
   "outputs": [],
   "source": [
    "from tavily import TavilyClient\n",
    "from scrape_metadata import scrape_metadata\n",
    "from langchain_ollama import ChatOllama\n",
    "from langchain_core.prompts import PromptTemplate\n",
    "import json\n",
    "import re"
   ]
  },
  {
   "cell_type": "code",
   "execution_count": 21,
   "id": "8065e724",
   "metadata": {},
   "outputs": [],
   "source": [
    "query = 'horror movies made in morocco'\n",
    "client = TavilyClient(\"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\")\n",
    "response = client.search(\n",
    "    query=query,\n",
    "    search_depth='advanced',\n",
    "    max_results=5,\n",
    ")"
   ]
  },
  {
   "cell_type": "code",
   "execution_count": null,
   "id": "ce055046",
   "metadata": {},
   "outputs": [],
   "source": [
    "template = \"\"\"\n",
    "    You will get two pieces of text:\n",
    "\n",
    "    1. A search query:\n",
    "    {query}\n",
    "\n",
    "    2. Web‑crawled text results:\n",
    "    {results}\n",
    "\n",
    "    Your task is to:\n",
    "    - read the results\n",
    "    - recognize all the mentioned movies\n",
    "    - within these movies, understand which ones are actually an answer to the query\n",
    "    - return a JSON object with the following structure:\n",
    "    {{\"movies\": [{{\n",
    "        \"title\": \"Movie Title 1\",\n",
    "        \"year\": \"YYYY\" (optional)\n",
    "        }},\n",
    "        {{\n",
    "        \"title\": \"Movie Title 2\",\n",
    "        \"year\": \"YYYY\" (optional)\n",
    "        }}\n",
    "    ]\n",
    "    }}\n",
    "\n",
    "    IMPORTANT: You should not include any other information in the response, just the JSON object in a way that i can parse it immediately.\n",
    "    Don't introduce your answer or write \"json\" in the beginning. Just start with the first curly brace of the JSON object.\n",
    "    \"\"\"\n",
    "prompt = PromptTemplate.from_template(template=template)\n",
    "llm = ChatOllama(model=\"gemma3:4b\", temperature=0)\n",
    "\n",
    "chain = prompt | llm"
   ]
  },
  {
   "cell_type": "code",
   "execution_count": 33,
   "id": "052a0e82",
   "metadata": {},
   "outputs": [],
   "source": [
    "ai_res = chain.invoke(input = {\"query\": query, \"results\": response['results']})"
   ]
  },
  {
   "cell_type": "code",
   "execution_count": 39,
   "id": "7adc3499",
   "metadata": {},
   "outputs": [
    {
     "name": "stdout",
     "output_type": "stream",
     "text": [
      "{'movies': [{'title': 'Achoura', 'year': '2018'}, {'title': 'La Damnée', 'year': '2024'}, {'title': 'Kandisha', 'year': '2008'}, {'title': 'Mirages', 'year': '2010'}, {'title': 'The Pyramid', 'year': '2014'}]}\n"
     ]
    }
   ],
   "source": [
    "json_str = re.search(r'\\{.*\\}', ai_res.content).group(0)\n",
    "json_obj = json.loads(json_str, strict=False)\n",
    "print(json_obj)"
   ]
  }
 ],
 "metadata": {
  "kernelspec": {
   "display_name": ".venv",
   "language": "python",
   "name": "python3"
  },
  "language_info": {
   "codemirror_mode": {
    "name": "ipython",
    "version": 3
   },
   "file_extension": ".py",
   "mimetype": "text/x-python",
   "name": "python",
   "nbconvert_exporter": "python",
   "pygments_lexer": "ipython3",
   "version": "3.11.3"
  }
 },
 "nbformat": 4,
 "nbformat_minor": 5
}
